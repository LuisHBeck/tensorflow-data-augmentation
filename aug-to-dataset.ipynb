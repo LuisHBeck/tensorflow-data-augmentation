{
 "cells": [
  {
   "cell_type": "code",
   "execution_count": 1,
   "id": "be938d96-8f04-420c-a42e-0a8194ef584c",
   "metadata": {},
   "outputs": [],
   "source": [
    "import matplotlib.pyplot as plt\n",
    "import numpy as np\n",
    "import tensorflow as tf\n",
    "import tensorflow_datasets as tfds\n",
    "\n",
    "from tensorflow.keras import layers"
   ]
  },
  {
   "cell_type": "code",
   "execution_count": 3,
   "id": "eeb4133c-a053-4ddf-a192-711ded685ff7",
   "metadata": {},
   "outputs": [],
   "source": [
    "(train_datasets, val_ds, test_ds), metadata = tfds.load(\n",
    "    'tf_flowers',\n",
    "    split=['train[:80%]', 'train[80%:90%]', 'train[90%:]'],\n",
    "    with_info=True,\n",
    "    as_supervised=True,\n",
    ")"
   ]
  },
  {
   "cell_type": "markdown",
   "id": "362ee2fe-c8d9-4d1d-be27-a05f6aa85e89",
   "metadata": {},
   "source": [
    "#### function to resize and rescale the images"
   ]
  },
  {
   "cell_type": "code",
   "execution_count": 6,
   "id": "646d2f8e-f1d3-4017-92a0-941a5615b6e7",
   "metadata": {},
   "outputs": [],
   "source": [
    "def resize_and_rescale(image, label):\n",
    "    IMG_SIZE = 180\n",
    "    image = tf.cast(image, tf.float32)\n",
    "    image = tf.image.resize(image, [IMG_SIZE, IMG_SIZE])\n",
    "    image = (image / 255.0)\n",
    "    return image, label"
   ]
  },
  {
   "cell_type": "markdown",
   "id": "62dfb15c-27b6-453b-8aa1-228e564341a9",
   "metadata": {},
   "source": [
    "#### function to apply random transformations to the images"
   ]
  },
  {
   "cell_type": "code",
   "execution_count": 49,
   "id": "6147e8bf-4734-406d-9e36-b408399c8707",
   "metadata": {},
   "outputs": [],
   "source": [
    "def augment(image_label, seed):\n",
    "    IMG_SIZE = 180\n",
    "    image, label = image_label\n",
    "    image, label = resize_and_rescale(image, label)\n",
    "    image = tf.image.resize_with_crop_or_pad(image, IMG_SIZE + 6, IMG_SIZE + 6)\n",
    "    \n",
    "    # new seed\n",
    "    new_seed = tf.random.split(seed, num=1)[0, :]\n",
    "\n",
    "    # random crop back to the original size\n",
    "    image = tf.image.stateless_random_crop(\n",
    "        image, size=[IMG_SIZE, IMG_SIZE, 3], seed=seed\n",
    "    )\n",
    "\n",
    "    # random brightness\n",
    "    image = tf.image.stateless_random_brightness(\n",
    "        image, max_delta=0.5, seed=new_seed\n",
    "    )\n",
    "    image = tf.clip_by_value(image, 0, 1)\n",
    "    return image, label"
   ]
  },
  {
   "cell_type": "markdown",
   "id": "15b49df9-76c7-4977-8462-ea7a8d7a5f79",
   "metadata": {},
   "source": [
    "## 1 -> using counter"
   ]
  },
  {
   "cell_type": "code",
   "execution_count": 22,
   "id": "e3abc044-d1ae-4d7f-9b9e-f976f7670a1f",
   "metadata": {},
   "outputs": [],
   "source": [
    "AUTOTUNE = tf.data.AUTOTUNE\n",
    "batch_size = 32"
   ]
  },
  {
   "cell_type": "code",
   "execution_count": 24,
   "id": "b3f280b7-947d-4011-ad42-c3613d245184",
   "metadata": {},
   "outputs": [],
   "source": [
    "counter = tf.data.experimental.Counter()\n",
    "train_ds = tf.data.Dataset.zip((train_datasets, (counter, counter)))"
   ]
  },
  {
   "cell_type": "code",
   "execution_count": 26,
   "id": "5843d4a1-362c-49bb-ad52-36d2bb3cf591",
   "metadata": {},
   "outputs": [],
   "source": [
    "train_ds = (\n",
    "    train_ds\n",
    "    .shuffle(1000)\n",
    "    .map(augment, num_parallel_calls=AUTOTUNE)\n",
    "    .batch(batch_size)\n",
    "    .prefetch(AUTOTUNE)\n",
    ")"
   ]
  },
  {
   "cell_type": "code",
   "execution_count": 28,
   "id": "c1725b49-1f63-4e31-9793-e58326ae2b2d",
   "metadata": {},
   "outputs": [],
   "source": [
    "val_ds = (\n",
    "    val_ds\n",
    "    .map(resize_and_rescale, num_parallel_calls=AUTOTUNE)\n",
    "    .batch(batch_size)\n",
    "    .prefetch(AUTOTUNE)\n",
    ")"
   ]
  },
  {
   "cell_type": "code",
   "execution_count": 30,
   "id": "d8f7d88d-dc27-431e-8a2f-30a6776d9336",
   "metadata": {},
   "outputs": [],
   "source": [
    "test_ds = (\n",
    "    test_ds\n",
    "    .map(resize_and_rescale, num_parallel_calls=AUTOTUNE)\n",
    "    .batch(batch_size)\n",
    "    .prefetch(AUTOTUNE)\n",
    ")"
   ]
  },
  {
   "cell_type": "markdown",
   "id": "bbe3d6b4-2336-4874-80ea-4c1615d21f56",
   "metadata": {},
   "source": [
    "## 2 -> using generator"
   ]
  },
  {
   "cell_type": "code",
   "execution_count": 33,
   "id": "0acec885-a69f-4732-bf29-c8a30dd9ac80",
   "metadata": {},
   "outputs": [],
   "source": [
    "rng = tf.random.Generator.from_seed(123, alg='philox')"
   ]
  },
  {
   "cell_type": "code",
   "execution_count": 53,
   "id": "3f407e70-b4d3-490a-b45f-7eb65e0bd3ba",
   "metadata": {},
   "outputs": [],
   "source": [
    "def f(x,y):\n",
    "    seed = rng.make_seeds(1)[:, 0]\n",
    "    image, label = augment((x,y), seed)\n",
    "    return image, label"
   ]
  },
  {
   "cell_type": "code",
   "execution_count": 55,
   "id": "6e3c58e7-82bb-4a5b-9ced-0f9d711f188d",
   "metadata": {},
   "outputs": [],
   "source": [
    "train_ds = (\n",
    "    train_datasets\n",
    "    .shuffle(1000)\n",
    "    .map(f, num_parallel_calls=AUTOTUNE)\n",
    "    .batch(batch_size)\n",
    "    .prefetch(AUTOTUNE)\n",
    ")"
   ]
  },
  {
   "cell_type": "code",
   "execution_count": 57,
   "id": "8892e1e7-0d06-4c05-b9cb-af8dc2111aec",
   "metadata": {},
   "outputs": [],
   "source": [
    "val_ds = (\n",
    "    val_ds\n",
    "    .map(resize_and_rescale, num_parallel_calls=AUTOTUNE)\n",
    "    .batch(batch_size)\n",
    "    .prefetch(AUTOTUNE)\n",
    ")"
   ]
  },
  {
   "cell_type": "code",
   "execution_count": 59,
   "id": "b5ce4ee4-4b66-44da-84f2-04fbec663f80",
   "metadata": {},
   "outputs": [],
   "source": [
    "test_ds = (\n",
    "    test_ds\n",
    "    .map(resize_and_rescale, num_parallel_calls=AUTOTUNE)\n",
    "    .batch(batch_size)\n",
    "    .prefetch(AUTOTUNE)\n",
    ")"
   ]
  },
  {
   "cell_type": "code",
   "execution_count": null,
   "id": "78199940-12b4-45ce-9717-562233449b05",
   "metadata": {},
   "outputs": [],
   "source": []
  }
 ],
 "metadata": {
  "kernelspec": {
   "display_name": "tensorflow-kernel",
   "language": "python",
   "name": "tensorflow-kernel"
  },
  "language_info": {
   "codemirror_mode": {
    "name": "ipython",
    "version": 3
   },
   "file_extension": ".py",
   "mimetype": "text/x-python",
   "name": "python",
   "nbconvert_exporter": "python",
   "pygments_lexer": "ipython3",
   "version": "3.11.7"
  }
 },
 "nbformat": 4,
 "nbformat_minor": 5
}
